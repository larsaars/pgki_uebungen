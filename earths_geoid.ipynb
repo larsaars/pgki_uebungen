{
 "cells": [
  {
   "cell_type": "markdown",
   "id": "preliminary-venture",
   "metadata": {},
   "source": [
    "# Earth's Geoid\n",
    "Das Geoid ist eine wichtige Bezugsfläche im Schwerefeld der Erde. Es dient zur Definition von Höhen sowie zur Vermessung und Beschreibung der Erdfigur. In guter Näherung wird das Geoid durch den mittleren Meeresspiegel der Weltmeere repräsentiert und ist damit außerhalb der Landmassen direkt in seiner Form sichtbar. \n",
    "![Potsdam Gravity Potato](https://upload.wikimedia.org/wikipedia/commons/thumb/c/c3/Modell.Potsdamer.Kartoffel.jpg/800px-Modell.Potsdamer.Kartoffel.jpg)"
   ]
  },
  {
   "cell_type": "code",
   "execution_count": 25,
   "id": "representative-malaysia",
   "metadata": {},
   "outputs": [],
   "source": [
    "from math import atanh, pi, sqrt"
   ]
  },
  {
   "cell_type": "code",
   "execution_count": 31,
   "id": "stone-salad",
   "metadata": {},
   "outputs": [],
   "source": [
    "a = 6378137.0\n",
    "c = 6356752.314245\n",
    "e = sqrt(1 - ((c ** 2) / (a ** 2)))"
   ]
  },
  {
   "cell_type": "code",
   "execution_count": 32,
   "id": "virgin-location",
   "metadata": {
    "tags": []
   },
   "outputs": [
    {
     "data": {
      "text/plain": [
       "'510065621724078.94 m^2'"
      ]
     },
     "execution_count": 32,
     "metadata": {},
     "output_type": "execute_result"
    }
   ],
   "source": [
    "S = 2 * pi * (a ** 2) * (1 + ((1 - e ** 2) / e) * atanh(e))\n",
    "str(S) + ' m^2'"
   ]
  },
  {
   "cell_type": "code",
   "execution_count": 33,
   "id": "caring-honey",
   "metadata": {},
   "outputs": [],
   "source": [
    "r = 6371000"
   ]
  },
  {
   "cell_type": "code",
   "execution_count": 36,
   "id": "formal-smith",
   "metadata": {
    "tags": []
   },
   "outputs": [
    {
     "data": {
      "text/plain": [
       "'1149814290.6875 m^2 difference'"
      ]
     },
     "execution_count": 36,
     "metadata": {},
     "output_type": "execute_result"
    }
   ],
   "source": [
    "str(abs(S - S2)) + ' m^2 difference'"
   ]
  }
 ],
 "metadata": {
  "kernelspec": {
   "display_name": "Python 3",
   "language": "python",
   "name": "python3"
  },
  "language_info": {
   "codemirror_mode": {
    "name": "ipython",
    "version": 3
   },
   "file_extension": ".py",
   "mimetype": "text/x-python",
   "name": "python",
   "nbconvert_exporter": "python",
   "pygments_lexer": "ipython3",
   "version": "3.8.5"
  }
 },
 "nbformat": 4,
 "nbformat_minor": 5
}
