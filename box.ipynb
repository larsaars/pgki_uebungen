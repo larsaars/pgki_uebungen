{
 "cells": [
  {
   "cell_type": "code",
   "execution_count": 2,
   "id": "behavioral-ribbon",
   "metadata": {},
   "outputs": [
    {
     "name": "stdout",
     "output_type": "stream",
     "text": [
      "\n",
      "+-----------------------------------+\n",
      "|                                   |\n",
      "|                                   |\n",
      "|                                   |\n",
      "+-----------------------------------|\n",
      "\n"
     ]
    }
   ],
   "source": [
    "box = '''\n",
    "+-----------------------------------+\n",
    "|                                   |\n",
    "|                                   |\n",
    "|                                   |\n",
    "+-----------------------------------|\n",
    "'''\n",
    "print(box)"
   ]
  },
  {
   "cell_type": "code",
   "execution_count": 3,
   "id": "happy-concentration",
   "metadata": {},
   "outputs": [
    {
     "name": "stdout",
     "output_type": "stream",
     "text": [
      "+-----------------------------------+\n",
      "|                                   |\n",
      "|                                   |\n",
      "|                                   |\n",
      "+-----------------------------------|\n"
     ]
    }
   ],
   "source": [
    "box2 = '+-----------------------------------+\\n|                                   |\\n|                                   |\\n|                                   |\\n+-----------------------------------|'\n",
    "print(box2)"
   ]
  },
  {
   "cell_type": "code",
   "execution_count": 5,
   "id": "southeast-pathology",
   "metadata": {},
   "outputs": [
    {
     "name": "stdout",
     "output_type": "stream",
     "text": [
      "+-----------------------------------+\n",
      "|                                   |\n",
      "|                                   |\n",
      "|                                   |\n",
      "+-----------------------------------|\n"
     ]
    }
   ],
   "source": [
    "box3 = \"+-----------------------------------+\\n|                                   |\\n|                                   |\\n|                                   |\\n+-----------------------------------|\"\n",
    "print(box3)"
   ]
  },
  {
   "cell_type": "code",
   "execution_count": 16,
   "id": "valid-thailand",
   "metadata": {
    "tags": []
   },
   "outputs": [
    {
     "name": "stdout",
     "output_type": "stream",
     "text": [
      "+--------------------------------------------------------------------------------------------------+\n",
      "|                                                                                                  |\n",
      "|                                                                                                  |\n",
      "|                                                                                                  |\n",
      "|                                                                                                  |\n",
      "|                                                                                                  |\n",
      "|                                                                                                  |\n",
      "|                                                                                                  |\n",
      "|                                                                                                  |\n",
      "|                                                                                                  |\n",
      "|                                                                                                  |\n",
      "|                                                                                                  |\n",
      "|                                                                                                  |\n",
      "|                                                                                                  |\n",
      "+--------------------------------------------------------------------------------------------------+\n"
     ]
    }
   ],
   "source": [
    "def text_box(width: int, height: int) -> str:\n",
    "    lx, ly = width - 1, height - 1\n",
    "    out = ''\n",
    "    for y in range(height):\n",
    "        for x in range(width):\n",
    "            if x == 0 or x == lx:\n",
    "                out += '+' if y == 0 or y == ly else '|'\n",
    "            elif y == 0 or y == ly:\n",
    "                out += '-'\n",
    "            else:\n",
    "                out += ' '\n",
    "            \n",
    "            if x == lx and y != ly:\n",
    "                out += '\\n'\n",
    "    \n",
    "    return out\n",
    "                    \n",
    "print(text_box(100, 15))"
   ]
  },
  {
   "cell_type": "code",
   "execution_count": 8,
   "id": "essential-invasion",
   "metadata": {},
   "outputs": [
    {
     "name": "stdout",
     "output_type": "stream",
     "text": [
      "+--------------------------------------------------------------------------------------------------+\n",
      "|                                                                                                  |\n",
      "|                                                                                                  |\n",
      "|                                                                                                  |\n",
      "|                                                                                                  |\n",
      "|                                                                                                  |\n",
      "|                                                                                                  |\n",
      "|                                                                                                  |\n",
      "|                                                                                                  |\n",
      "|                                                                                                  |\n",
      "|                                                                                                  |\n",
      "|                                                                                                  |\n",
      "|                                                                                                  |\n",
      "|                                                                                                  |\n",
      "+--------------------------------------------------------------------------------------------------+\n",
      "\n"
     ]
    }
   ],
   "source": [
    "def text_box2(width: int, height: int) -> str:\n",
    "    sw, sh = width - 2, height - 2;\n",
    "    out = tb = '+' + sw * '-' + '+\\n'\n",
    "    out += sh * ('|' + sw * ' ' + '|\\n')\n",
    "    return out + tb\n",
    "\n",
    "print(text_box2(100, 15))"
   ]
  },
  {
   "cell_type": "code",
   "execution_count": null,
   "id": "scenic-privacy",
   "metadata": {},
   "outputs": [],
   "source": []
  }
 ],
 "metadata": {
  "kernelspec": {
   "display_name": "Python 3",
   "language": "python",
   "name": "python3"
  },
  "language_info": {
   "codemirror_mode": {
    "name": "ipython",
    "version": 3
   },
   "file_extension": ".py",
   "mimetype": "text/x-python",
   "name": "python",
   "nbconvert_exporter": "python",
   "pygments_lexer": "ipython3",
   "version": "3.8.5"
  }
 },
 "nbformat": 4,
 "nbformat_minor": 5
}
