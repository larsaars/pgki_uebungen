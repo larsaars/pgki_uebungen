{
 "cells": [
  {
   "cell_type": "markdown",
   "metadata": {},
   "source": [
    "## Simulated Annealing\n",
    "\n",
    "### Imports\n",
    "\n",
    "The module `math` is imported as `m` and used in the definition of function `f(x)`. The `math` module is also needed later in the algorithm. The module `random` is imported to generate random numbers. "
   ]
  },
  {
   "cell_type": "code",
   "execution_count": 39,
   "metadata": {},
   "outputs": [],
   "source": [
    "import math as m\n",
    "from random import seed\n",
    "from random import uniform\n",
    "from random import random\n",
    "seed(10)"
   ]
  },
  {
   "cell_type": "markdown",
   "metadata": {},
   "source": [
    "---\n",
    "### Functions\n",
    "Two functions are needed for implementing the algorithm:\n",
    "+ the function `f(x)` to be minimized\n",
    "+ the function `uniform(a, b)` to generate a uniformly distributed random number `x` from [a, b]\n",
    "\n",
    "The function `uniform()` is provided by the module `random`. The other functions is defined below. "
   ]
  },
  {
   "cell_type": "code",
   "execution_count": 40,
   "metadata": {},
   "outputs": [],
   "source": [
    "def f(x):\n",
    "    return 0.1 *  x**2 + 1.5* m.cos(2*m.pi*x)"
   ]
  },
  {
   "cell_type": "markdown",
   "metadata": {},
   "source": [
    "### Test\n",
    "The next cell serves to test and try out the three functions. This part can be safely deleted if not needed."
   ]
  },
  {
   "cell_type": "code",
   "execution_count": 48,
   "metadata": {},
   "outputs": [
    {
     "name": "stdout",
     "output_type": "stream",
     "text": [
      "f(x) =  1.6\n",
      "rand_num from [a, b] :  3.3981962445391884\n",
      "rand_num from [0, 1] :  0.31436380495645067\n"
     ]
    }
   ],
   "source": [
    "'''test the functions and delete later'''\n",
    "#*** test f(x) ***************************************\n",
    "x = 1\n",
    "y = f(x)\n",
    "print(\"f(x) = \", y)\n",
    "\n",
    "\n",
    "#*** test uniform(a, b) *******************************\n",
    "\n",
    "# generate a random number from [x - rad, x + rad]:\n",
    "x = 3\n",
    "radius = 2\n",
    "y = uniform(x-rad, x+rad)\n",
    "print(\"rand_num from [a, b] : \", y)\n",
    "\n",
    "# generate a random number from [0,1]:\n",
    "p = uniform(0,1)\n",
    "print(\"rand_num from [0, 1] : \", p)"
   ]
  },
  {
   "cell_type": "markdown",
   "metadata": {},
   "source": [
    "---\n",
    "### Initialization of Simulated Annealing"
   ]
  },
  {
   "cell_type": "code",
   "execution_count": 49,
   "metadata": {},
   "outputs": [],
   "source": [
    "max_T = 1000      # maximum temperature\n",
    "min_T = 0.1       # minimum temperature\n",
    "alpha = 0.995     # annealing parameter\n",
    "rad   = 1.0       # radius for neighborhood"
   ]
  },
  {
   "cell_type": "markdown",
   "metadata": {},
   "source": [
    "### Procedure"
   ]
  },
  {
   "cell_type": "code",
   "execution_count": null,
   "metadata": {},
   "outputs": [],
   "source": []
  }
 ],
 "metadata": {
  "kernelspec": {
   "display_name": "Python 3",
   "language": "python",
   "name": "python3"
  },
  "language_info": {
   "codemirror_mode": {
    "name": "ipython",
    "version": 3
   },
   "file_extension": ".py",
   "mimetype": "text/x-python",
   "name": "python",
   "nbconvert_exporter": "python",
   "pygments_lexer": "ipython3",
   "version": "3.8.5"
  }
 },
 "nbformat": 4,
 "nbformat_minor": 4
}
