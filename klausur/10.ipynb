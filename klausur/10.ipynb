{
 "cells": [
  {
   "cell_type": "code",
   "execution_count": 1,
   "id": "taken-chassis",
   "metadata": {},
   "outputs": [],
   "source": [
    "import pandas as pd"
   ]
  },
  {
   "cell_type": "code",
   "execution_count": 13,
   "id": "acoustic-mortgage",
   "metadata": {},
   "outputs": [
    {
     "data": {
      "text/html": [
       "<div>\n",
       "<style scoped>\n",
       "    .dataframe tbody tr th:only-of-type {\n",
       "        vertical-align: middle;\n",
       "    }\n",
       "\n",
       "    .dataframe tbody tr th {\n",
       "        vertical-align: top;\n",
       "    }\n",
       "\n",
       "    .dataframe thead th {\n",
       "        text-align: right;\n",
       "    }\n",
       "</style>\n",
       "<table border=\"1\" class=\"dataframe\">\n",
       "  <thead>\n",
       "    <tr style=\"text-align: right;\">\n",
       "      <th></th>\n",
       "      <th>population</th>\n",
       "      <th>country</th>\n",
       "      <th>area</th>\n",
       "    </tr>\n",
       "  </thead>\n",
       "  <tbody>\n",
       "    <tr>\n",
       "      <th>Tokio</th>\n",
       "      <td>37.3</td>\n",
       "      <td>Japan</td>\n",
       "      <td>13.5</td>\n",
       "    </tr>\n",
       "    <tr>\n",
       "      <th>Jakarta</th>\n",
       "      <td>33.4</td>\n",
       "      <td>Indonesia</td>\n",
       "      <td>7.1</td>\n",
       "    </tr>\n",
       "    <tr>\n",
       "      <th>Delhi</th>\n",
       "      <td>29.0</td>\n",
       "      <td>India</td>\n",
       "      <td>3.5</td>\n",
       "    </tr>\n",
       "    <tr>\n",
       "      <th>Seoul</th>\n",
       "      <td>25.5</td>\n",
       "      <td>South Korea</td>\n",
       "      <td>11.7</td>\n",
       "    </tr>\n",
       "    <tr>\n",
       "      <th>Mumbai</th>\n",
       "      <td>24.4</td>\n",
       "      <td>India</td>\n",
       "      <td>4.4</td>\n",
       "    </tr>\n",
       "  </tbody>\n",
       "</table>\n",
       "</div>"
      ],
      "text/plain": [
       "         population      country  area\n",
       "Tokio          37.3        Japan  13.5\n",
       "Jakarta        33.4    Indonesia   7.1\n",
       "Delhi          29.0        India   3.5\n",
       "Seoul          25.5  South Korea  11.7\n",
       "Mumbai         24.4        India   4.4"
      ]
     },
     "execution_count": 13,
     "metadata": {},
     "output_type": "execute_result"
    }
   ],
   "source": [
    "# a\n",
    "index = ['Tokio', 'Jakarta', 'Delhi', 'Seoul', 'Mumbai']\n",
    "data = {\n",
    "    'population': [37.3, 33.4, 29., 25.5, 24.4],\n",
    "    'country': ['Japan', 'Indonesia', 'India', 'South Korea', 'India'],\n",
    "    'area' : [13.5, 7.1, 3.5, 11.7, 4.4],\n",
    "}\n",
    "\n",
    "df = pd.DataFrame(data, index=index)\n",
    "df"
   ]
  },
  {
   "cell_type": "code",
   "execution_count": 47,
   "id": "worldwide-england",
   "metadata": {},
   "outputs": [
    {
     "data": {
      "text/html": [
       "<div>\n",
       "<style scoped>\n",
       "    .dataframe tbody tr th:only-of-type {\n",
       "        vertical-align: middle;\n",
       "    }\n",
       "\n",
       "    .dataframe tbody tr th {\n",
       "        vertical-align: top;\n",
       "    }\n",
       "\n",
       "    .dataframe thead th {\n",
       "        text-align: right;\n",
       "    }\n",
       "</style>\n",
       "<table border=\"1\" class=\"dataframe\">\n",
       "  <thead>\n",
       "    <tr style=\"text-align: right;\">\n",
       "      <th></th>\n",
       "      <th>population</th>\n",
       "      <th>country</th>\n",
       "      <th>area</th>\n",
       "      <th>density</th>\n",
       "    </tr>\n",
       "  </thead>\n",
       "  <tbody>\n",
       "    <tr>\n",
       "      <th>Tokio</th>\n",
       "      <td>37.3</td>\n",
       "      <td>Japan</td>\n",
       "      <td>13.5</td>\n",
       "      <td>2762.962963</td>\n",
       "    </tr>\n",
       "    <tr>\n",
       "      <th>Jakarta</th>\n",
       "      <td>33.4</td>\n",
       "      <td>Indonesia</td>\n",
       "      <td>7.1</td>\n",
       "      <td>4704.225352</td>\n",
       "    </tr>\n",
       "    <tr>\n",
       "      <th>Delhi</th>\n",
       "      <td>29.0</td>\n",
       "      <td>India</td>\n",
       "      <td>3.5</td>\n",
       "      <td>8285.714286</td>\n",
       "    </tr>\n",
       "    <tr>\n",
       "      <th>Seoul</th>\n",
       "      <td>25.5</td>\n",
       "      <td>South Korea</td>\n",
       "      <td>11.7</td>\n",
       "      <td>2179.487179</td>\n",
       "    </tr>\n",
       "    <tr>\n",
       "      <th>Mumbai</th>\n",
       "      <td>24.4</td>\n",
       "      <td>India</td>\n",
       "      <td>4.4</td>\n",
       "      <td>5545.454545</td>\n",
       "    </tr>\n",
       "  </tbody>\n",
       "</table>\n",
       "</div>"
      ],
      "text/plain": [
       "         population      country  area      density\n",
       "Tokio          37.3        Japan  13.5  2762.962963\n",
       "Jakarta        33.4    Indonesia   7.1  4704.225352\n",
       "Delhi          29.0        India   3.5  8285.714286\n",
       "Seoul          25.5  South Korea  11.7  2179.487179\n",
       "Mumbai         24.4        India   4.4  5545.454545"
      ]
     },
     "execution_count": 47,
     "metadata": {},
     "output_type": "execute_result"
    }
   ],
   "source": [
    "# b\n",
    "df['density'] = 1000 * df.population / df.area\n",
    "df"
   ]
  },
  {
   "cell_type": "code",
   "execution_count": 15,
   "id": "obvious-vitamin",
   "metadata": {},
   "outputs": [
    {
     "data": {
      "text/html": [
       "<div>\n",
       "<style scoped>\n",
       "    .dataframe tbody tr th:only-of-type {\n",
       "        vertical-align: middle;\n",
       "    }\n",
       "\n",
       "    .dataframe tbody tr th {\n",
       "        vertical-align: top;\n",
       "    }\n",
       "\n",
       "    .dataframe thead th {\n",
       "        text-align: right;\n",
       "    }\n",
       "</style>\n",
       "<table border=\"1\" class=\"dataframe\">\n",
       "  <thead>\n",
       "    <tr style=\"text-align: right;\">\n",
       "      <th></th>\n",
       "      <th>population</th>\n",
       "      <th>country</th>\n",
       "      <th>area</th>\n",
       "      <th>density</th>\n",
       "    </tr>\n",
       "  </thead>\n",
       "  <tbody>\n",
       "    <tr>\n",
       "      <th>Delhi</th>\n",
       "      <td>29.0</td>\n",
       "      <td>India</td>\n",
       "      <td>3.5</td>\n",
       "      <td>8285.714286</td>\n",
       "    </tr>\n",
       "    <tr>\n",
       "      <th>Mumbai</th>\n",
       "      <td>24.4</td>\n",
       "      <td>India</td>\n",
       "      <td>4.4</td>\n",
       "      <td>5545.454545</td>\n",
       "    </tr>\n",
       "  </tbody>\n",
       "</table>\n",
       "</div>"
      ],
      "text/plain": [
       "        population country  area      density\n",
       "Delhi         29.0   India   3.5  8285.714286\n",
       "Mumbai        24.4   India   4.4  5545.454545"
      ]
     },
     "execution_count": 15,
     "metadata": {},
     "output_type": "execute_result"
    }
   ],
   "source": [
    "# c\n",
    "df.loc[df.country == 'India']"
   ]
  },
  {
   "cell_type": "code",
   "execution_count": 26,
   "id": "patient-medium",
   "metadata": {},
   "outputs": [
    {
     "data": {
      "text/html": [
       "<div>\n",
       "<style scoped>\n",
       "    .dataframe tbody tr th:only-of-type {\n",
       "        vertical-align: middle;\n",
       "    }\n",
       "\n",
       "    .dataframe tbody tr th {\n",
       "        vertical-align: top;\n",
       "    }\n",
       "\n",
       "    .dataframe thead th {\n",
       "        text-align: right;\n",
       "    }\n",
       "</style>\n",
       "<table border=\"1\" class=\"dataframe\">\n",
       "  <thead>\n",
       "    <tr style=\"text-align: right;\">\n",
       "      <th></th>\n",
       "      <th>population</th>\n",
       "      <th>area</th>\n",
       "    </tr>\n",
       "  </thead>\n",
       "  <tbody>\n",
       "    <tr>\n",
       "      <th>Tokio</th>\n",
       "      <td>37.3</td>\n",
       "      <td>13.5</td>\n",
       "    </tr>\n",
       "    <tr>\n",
       "      <th>Jakarta</th>\n",
       "      <td>33.4</td>\n",
       "      <td>7.1</td>\n",
       "    </tr>\n",
       "    <tr>\n",
       "      <th>Seoul</th>\n",
       "      <td>25.5</td>\n",
       "      <td>11.7</td>\n",
       "    </tr>\n",
       "  </tbody>\n",
       "</table>\n",
       "</div>"
      ],
      "text/plain": [
       "         population  area\n",
       "Tokio          37.3  13.5\n",
       "Jakarta        33.4   7.1\n",
       "Seoul          25.5  11.7"
      ]
     },
     "execution_count": 26,
     "metadata": {},
     "output_type": "execute_result"
    }
   ],
   "source": [
    "# d\n",
    "df.loc[df.country != 'India', ['population', 'area']]"
   ]
  },
  {
   "cell_type": "code",
   "execution_count": 32,
   "id": "meaning-parent",
   "metadata": {},
   "outputs": [
    {
     "data": {
      "text/plain": [
       "2179.4871794871797"
      ]
     },
     "execution_count": 32,
     "metadata": {},
     "output_type": "execute_result"
    }
   ],
   "source": [
    "# e\n",
    "df.loc['Seoul', 'density']"
   ]
  },
  {
   "cell_type": "code",
   "execution_count": 36,
   "id": "falling-breakfast",
   "metadata": {},
   "outputs": [
    {
     "data": {
      "text/plain": [
       "5545.454545454545"
      ]
     },
     "execution_count": 36,
     "metadata": {},
     "output_type": "execute_result"
    }
   ],
   "source": [
    "# f\n",
    "df.iloc[4, 3]"
   ]
  },
  {
   "cell_type": "code",
   "execution_count": 48,
   "id": "welcome-import",
   "metadata": {},
   "outputs": [
    {
     "data": {
      "text/html": [
       "<div>\n",
       "<style scoped>\n",
       "    .dataframe tbody tr th:only-of-type {\n",
       "        vertical-align: middle;\n",
       "    }\n",
       "\n",
       "    .dataframe tbody tr th {\n",
       "        vertical-align: top;\n",
       "    }\n",
       "\n",
       "    .dataframe thead th {\n",
       "        text-align: right;\n",
       "    }\n",
       "</style>\n",
       "<table border=\"1\" class=\"dataframe\">\n",
       "  <thead>\n",
       "    <tr style=\"text-align: right;\">\n",
       "      <th></th>\n",
       "      <th>population</th>\n",
       "      <th>country</th>\n",
       "      <th>area</th>\n",
       "      <th>density</th>\n",
       "    </tr>\n",
       "  </thead>\n",
       "  <tbody>\n",
       "    <tr>\n",
       "      <th>Tokio</th>\n",
       "      <td>37.3</td>\n",
       "      <td>Japan</td>\n",
       "      <td>13.5</td>\n",
       "      <td>2763.0</td>\n",
       "    </tr>\n",
       "    <tr>\n",
       "      <th>Jakarta</th>\n",
       "      <td>33.4</td>\n",
       "      <td>Indonesia</td>\n",
       "      <td>7.1</td>\n",
       "      <td>4704.2</td>\n",
       "    </tr>\n",
       "    <tr>\n",
       "      <th>Delhi</th>\n",
       "      <td>29.0</td>\n",
       "      <td>India</td>\n",
       "      <td>3.5</td>\n",
       "      <td>8285.7</td>\n",
       "    </tr>\n",
       "    <tr>\n",
       "      <th>Seoul</th>\n",
       "      <td>25.5</td>\n",
       "      <td>South Korea</td>\n",
       "      <td>11.7</td>\n",
       "      <td>2179.5</td>\n",
       "    </tr>\n",
       "    <tr>\n",
       "      <th>Mumbai</th>\n",
       "      <td>24.4</td>\n",
       "      <td>India</td>\n",
       "      <td>4.4</td>\n",
       "      <td>5545.5</td>\n",
       "    </tr>\n",
       "  </tbody>\n",
       "</table>\n",
       "</div>"
      ],
      "text/plain": [
       "         population      country  area  density\n",
       "Tokio          37.3        Japan  13.5   2763.0\n",
       "Jakarta        33.4    Indonesia   7.1   4704.2\n",
       "Delhi          29.0        India   3.5   8285.7\n",
       "Seoul          25.5  South Korea  11.7   2179.5\n",
       "Mumbai         24.4        India   4.4   5545.5"
      ]
     },
     "execution_count": 48,
     "metadata": {},
     "output_type": "execute_result"
    }
   ],
   "source": [
    "# ...\n",
    "df.density = df.density.apply(lambda x: round(x, 1))  # could do sth like df.density = df.density.apply(round)\n",
    "df"
   ]
  },
  {
   "cell_type": "code",
   "execution_count": null,
   "id": "equivalent-electron",
   "metadata": {},
   "outputs": [],
   "source": []
  }
 ],
 "metadata": {
  "kernelspec": {
   "display_name": "Python 3",
   "language": "python",
   "name": "python3"
  },
  "language_info": {
   "codemirror_mode": {
    "name": "ipython",
    "version": 3
   },
   "file_extension": ".py",
   "mimetype": "text/x-python",
   "name": "python",
   "nbconvert_exporter": "python",
   "pygments_lexer": "ipython3",
   "version": "3.8.5"
  }
 },
 "nbformat": 4,
 "nbformat_minor": 5
}
