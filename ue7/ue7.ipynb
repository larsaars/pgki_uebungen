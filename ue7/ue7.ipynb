{
 "cells": [
  {
   "cell_type": "code",
   "execution_count": 12,
   "id": "smaller-webster",
   "metadata": {},
   "outputs": [
    {
     "name": "stdout",
     "output_type": "stream",
     "text": [
      "[0.0, 0.25, 1.0, 0.5, 0.75, 0.25]\n"
     ]
    }
   ],
   "source": [
    "p = [2, 4, 10, 6, 8, 4]\n",
    "max0, min0 = max(p), min(p)\n",
    "diff = abs(max0 - min0)\n",
    "\n",
    "# p[0] = (p[0] - min0) / diff\n",
    "for i in range(len(p)):\n",
    "    p[i] = (p[i] - min0) / diff\n",
    "    \n",
    "print(p)"
   ]
  },
  {
   "cell_type": "code",
   "execution_count": 13,
   "id": "wireless-pierce",
   "metadata": {},
   "outputs": [
    {
     "name": "stdout",
     "output_type": "stream",
     "text": [
      "Buzz\n",
      "Buzz\n",
      "FizzBuzz\n",
      "Buzz\n",
      "Buzz\n",
      "FizzBuzz\n",
      "Buzz\n",
      "Buzz\n",
      "FizzBuzz\n",
      "Buzz\n",
      "Buzz\n",
      "FizzBuzz\n",
      "Buzz\n",
      "Buzz\n",
      "FizzBuzz\n",
      "Buzz\n",
      "Buzz\n",
      "FizzBuzz\n",
      "Buzz\n",
      "Buzz\n"
     ]
    }
   ],
   "source": [
    "nmax = 100\n",
    "for n in range(1, nmax + 1):\n",
    "    message = ''\n",
    "    if not n % 3:\n",
    "        message = 'Fizz'\n",
    "    if not n % 5:\n",
    "        message += 'Buzz'\n",
    "        print(message or n)"
   ]
  },
  {
   "cell_type": "code",
   "execution_count": null,
   "id": "rental-equality",
   "metadata": {},
   "outputs": [],
   "source": []
  }
 ],
 "metadata": {
  "kernelspec": {
   "display_name": "Python 3",
   "language": "python",
   "name": "python3"
  },
  "language_info": {
   "codemirror_mode": {
    "name": "ipython",
    "version": 3
   },
   "file_extension": ".py",
   "mimetype": "text/x-python",
   "name": "python",
   "nbconvert_exporter": "python",
   "pygments_lexer": "ipython3",
   "version": "3.8.5"
  }
 },
 "nbformat": 4,
 "nbformat_minor": 5
}
