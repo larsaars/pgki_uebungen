{
 "cells": [
  {
   "cell_type": "markdown",
   "metadata": {},
   "source": [
    "## Simulated Annealing\n",
    "\n",
    "### Imports\n",
    "\n",
    "The module `math` is imported as `m` and used in the definition of function `f(x)`. The `math` module is also needed later in the algorithm. The module `random` is imported to generate random numbers. "
   ]
  },
  {
   "cell_type": "code",
   "execution_count": 3,
   "metadata": {},
   "outputs": [],
   "source": [
    "import math as m\n",
    "from random import seed\n",
    "from random import uniform\n",
    "from random import random\n",
    "seed(10)"
   ]
  },
  {
   "cell_type": "markdown",
   "metadata": {},
   "source": [
    "---\n",
    "### Functions\n",
    "Two functions are needed for implementing the algorithm:\n",
    "+ the function `f(x)` to be minimized\n",
    "+ the function `uniform(a, b)` to generate a uniformly distributed random number `x` from [a, b]\n",
    "\n",
    "The function `uniform()` is provided by the module `random`. The other functions is defined below. "
   ]
  },
  {
   "cell_type": "code",
   "execution_count": 4,
   "metadata": {},
   "outputs": [],
   "source": [
    "def f(x: float) -> float:\n",
    "    return 0.1 *  x**2 + 1.5* m.cos(2*m.pi*x)"
   ]
  },
  {
   "cell_type": "markdown",
   "metadata": {},
   "source": [
    "---\n",
    "### Initialization of Simulated Annealing"
   ]
  },
  {
   "cell_type": "code",
   "execution_count": 10,
   "metadata": {},
   "outputs": [],
   "source": [
    "max_T = 1000      # maximum temperature\n",
    "min_T = 0.1       # minimum temperature\n",
    "alpha = 0.995     # annealing parameter\n",
    "rad   = 1.0       # radius for neighborhood"
   ]
  },
  {
   "cell_type": "markdown",
   "metadata": {},
   "source": [
    "### Procedure"
   ]
  },
  {
   "cell_type": "code",
   "execution_count": 21,
   "metadata": {},
   "outputs": [
    {
     "data": {
      "text/plain": [
       "-0.4975671556418617"
      ]
     },
     "execution_count": 21,
     "metadata": {},
     "output_type": "execute_result"
    }
   ],
   "source": [
    "x = uniform(-10, 10)  # create random value for first execution\n",
    "xS = x\n",
    "\n",
    "T = max_T\n",
    "while min_T < T:\n",
    "    y = uniform(x - rad, x + rad)\n",
    "    fx, fy = f(x), f(y)\n",
    "    \n",
    "    if fy < fx:\n",
    "        x = y\n",
    "    else:\n",
    "        p = uniform(0, 1)\n",
    "        e = m.exp(-(fy - fx) / T)\n",
    "        \n",
    "        if p < e:\n",
    "            x = y\n",
    "    \n",
    "    if fx < f(xS):\n",
    "        xS = x\n",
    "    \n",
    "    T = alpha * T\n",
    "\n",
    "xS"
   ]
  },
  {
   "cell_type": "code",
   "execution_count": null,
   "metadata": {},
   "outputs": [],
   "source": []
  }
 ],
 "metadata": {
  "kernelspec": {
   "display_name": "Python 3",
   "language": "python",
   "name": "python3"
  },
  "language_info": {
   "codemirror_mode": {
    "name": "ipython",
    "version": 3
   },
   "file_extension": ".py",
   "mimetype": "text/x-python",
   "name": "python",
   "nbconvert_exporter": "python",
   "pygments_lexer": "ipython3",
   "version": "3.8.5"
  }
 },
 "nbformat": 4,
 "nbformat_minor": 4
}
