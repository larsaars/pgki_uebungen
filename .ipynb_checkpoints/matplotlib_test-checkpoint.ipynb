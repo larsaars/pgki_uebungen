{
 "cells": [
  {
   "cell_type": "code",
   "execution_count": null,
   "id": "afce67d4-8a10-4101-a006-56e894fe83e8",
   "metadata": {},
   "outputs": [],
   "source": []
  }
 ],
 "metadata": {
  "kernelspec": {
   "display_name": "Python 3",
   "language": "python",
   "name": "python3"
  },
  "language_info": {
   "name": ""
  }
 },
 "nbformat": 4,
 "nbformat_minor": 5
}
