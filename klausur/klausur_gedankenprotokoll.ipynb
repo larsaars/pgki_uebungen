{
  "nbformat": 4,
  "nbformat_minor": 0,
  "metadata": {
    "colab": {
      "name": "klausur_gedankenprotokoll.ipynb",
      "provenance": [],
      "authorship_tag": "ABX9TyOcZMpZKBrhm1x9tcemIfes",
      "include_colab_link": true
    },
    "kernelspec": {
      "name": "python3",
      "display_name": "Python 3"
    },
    "language_info": {
      "name": "python"
    }
  },
  "cells": [
    {
      "cell_type": "markdown",
      "metadata": {
        "id": "view-in-github",
        "colab_type": "text"
      },
      "source": [
        "<a href=\"https://colab.research.google.com/github/larsaars/pgki_uebungen/blob/main/klausur/klausur_gedankenprotokoll.ipynb\" target=\"_parent\"><img src=\"https://colab.research.google.com/assets/colab-badge.svg\" alt=\"Open In Colab\"/></a>"
      ]
    },
    {
      "cell_type": "code",
      "metadata": {
        "id": "cwKaejnSHg2P"
      },
      "source": [
        "import numpy as np\n",
        "import pandas as pd\n",
        "import matplotlib.pyplot as plt"
      ],
      "execution_count": 1,
      "outputs": []
    },
    {
      "cell_type": "code",
      "metadata": {
        "colab": {
          "base_uri": "https://localhost:8080/",
          "height": 206
        },
        "id": "4xRsp-ZiH4hf",
        "outputId": "89b87da5-9e10-4777-ed70-269b5cd5df4e"
      },
      "source": [
        "# 5\n",
        "index = ['Abdul-Jabbar', 'Malone', 'James', 'Bryant', 'Jordan']\n",
        "data = {\n",
        "    'points': [38.4, 37., 35.4, 33.6, 32.2],\n",
        "    'games': [1560, 1476, 1310, 1346, 1072],\n",
        "    'team': ['Lakers', 'Jazz', 'Chavaliers', 'Lakers', 'Bulls'],\n",
        "}\n",
        "pd.DataFrame(data, index=index)"
      ],
      "execution_count": 3,
      "outputs": [
        {
          "output_type": "execute_result",
          "data": {
            "text/html": [
              "<div>\n",
              "<style scoped>\n",
              "    .dataframe tbody tr th:only-of-type {\n",
              "        vertical-align: middle;\n",
              "    }\n",
              "\n",
              "    .dataframe tbody tr th {\n",
              "        vertical-align: top;\n",
              "    }\n",
              "\n",
              "    .dataframe thead th {\n",
              "        text-align: right;\n",
              "    }\n",
              "</style>\n",
              "<table border=\"1\" class=\"dataframe\">\n",
              "  <thead>\n",
              "    <tr style=\"text-align: right;\">\n",
              "      <th></th>\n",
              "      <th>points</th>\n",
              "      <th>games</th>\n",
              "      <th>team</th>\n",
              "    </tr>\n",
              "  </thead>\n",
              "  <tbody>\n",
              "    <tr>\n",
              "      <th>Abdul-Jabbar</th>\n",
              "      <td>38.4</td>\n",
              "      <td>1560</td>\n",
              "      <td>Lakers</td>\n",
              "    </tr>\n",
              "    <tr>\n",
              "      <th>Malone</th>\n",
              "      <td>37.0</td>\n",
              "      <td>1476</td>\n",
              "      <td>Jazz</td>\n",
              "    </tr>\n",
              "    <tr>\n",
              "      <th>James</th>\n",
              "      <td>35.4</td>\n",
              "      <td>1310</td>\n",
              "      <td>Chavaliers</td>\n",
              "    </tr>\n",
              "    <tr>\n",
              "      <th>Bryant</th>\n",
              "      <td>33.6</td>\n",
              "      <td>1346</td>\n",
              "      <td>Lakers</td>\n",
              "    </tr>\n",
              "    <tr>\n",
              "      <th>Jordan</th>\n",
              "      <td>32.2</td>\n",
              "      <td>1072</td>\n",
              "      <td>Bulls</td>\n",
              "    </tr>\n",
              "  </tbody>\n",
              "</table>\n",
              "</div>"
            ],
            "text/plain": [
              "              points  games        team\n",
              "Abdul-Jabbar    38.4   1560      Lakers\n",
              "Malone          37.0   1476        Jazz\n",
              "James           35.4   1310  Chavaliers\n",
              "Bryant          33.6   1346      Lakers\n",
              "Jordan          32.2   1072       Bulls"
            ]
          },
          "metadata": {
            "tags": []
          },
          "execution_count": 3
        }
      ]
    },
    {
      "cell_type": "code",
      "metadata": {
        "colab": {
          "base_uri": "https://localhost:8080/",
          "height": 267
        },
        "id": "CsZ0tYJmJbIP",
        "outputId": "75a626ee-0ac9-4234-8212-138fdb08bbd3"
      },
      "source": [
        "# 4\n",
        "X = np.random.uniform(-1, 1, (30, 3))\n",
        "\n",
        "fig, axes = plt.subplots(3, 3)\n",
        "\n",
        "for i, row in enumerate(axes):\n",
        "  for j, ax in enumerate(row):\n",
        "    x = X[:, i]\n",
        "    y = X[:, j]\n",
        "    ax.scatter(x, y, c='blue')\n",
        "\n",
        "plt.show()"
      ],
      "execution_count": 12,
      "outputs": [
        {
          "output_type": "display_data",
          "data": {
            "image/png": "[encoded data removed]",
            "text/plain": [
              "<Figure size 432x288 with 9 Axes>"
            ]
          },
          "metadata": {
            "tags": [],
            "needs_background": "light"
          }
        }
      ]
    },
    {
      "cell_type": "code",
      "metadata": {
        "id": "xYiq9iCZRnDO"
      },
      "source": [
        ""
      ],
      "execution_count": null,
      "outputs": []
    }
  ]
}