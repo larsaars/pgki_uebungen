{
 "cells": [
  {
   "cell_type": "markdown",
   "metadata": {},
   "source": [
    "## Normalize data"
   ]
  },
  {
   "cell_type": "code",
   "execution_count": 2,
   "metadata": {},
   "outputs": [
    {
     "name": "stdout",
     "output_type": "stream",
     "text": [
      "[0.0, 0.25, 1.0, 0.5, 0.75, 0.25]\n"
     ]
    }
   ],
   "source": [
    "p = [2, 4, 10, 6, 8, 4]\n",
    "pmin, pmax = min(p), max(p)\n",
    "delta = pmax - pmin\n",
    "for i, _ in enumerate(p):\n",
    "    p[i] = (p[i] - pmin) / delta\n",
    "print(p)"
   ]
  },
  {
   "cell_type": "markdown",
   "metadata": {},
   "source": [
    "## FizzBuzz"
   ]
  },
  {
   "cell_type": "code",
   "execution_count": 3,
   "metadata": {},
   "outputs": [
    {
     "name": "stdout",
     "output_type": "stream",
     "text": [
      "1\n",
      "2\n",
      "Fizz\n",
      "4\n",
      "Buzz\n",
      "Fizz\n",
      "7\n",
      "8\n",
      "Fizz\n",
      "Buzz\n",
      "11\n",
      "Fizz\n",
      "13\n",
      "14\n",
      "FizzBuzz\n",
      "16\n",
      "17\n",
      "Fizz\n",
      "19\n",
      "Buzz\n",
      "Fizz\n",
      "22\n",
      "23\n",
      "Fizz\n",
      "Buzz\n",
      "26\n",
      "Fizz\n",
      "28\n",
      "29\n",
      "FizzBuzz\n",
      "31\n",
      "32\n",
      "Fizz\n",
      "34\n",
      "Buzz\n",
      "Fizz\n",
      "37\n",
      "38\n",
      "Fizz\n",
      "Buzz\n",
      "41\n",
      "Fizz\n",
      "43\n",
      "44\n",
      "FizzBuzz\n",
      "46\n",
      "47\n",
      "Fizz\n",
      "49\n",
      "Buzz\n",
      "Fizz\n",
      "52\n",
      "53\n",
      "Fizz\n",
      "Buzz\n",
      "56\n",
      "Fizz\n",
      "58\n",
      "59\n",
      "FizzBuzz\n",
      "61\n",
      "62\n",
      "Fizz\n",
      "64\n",
      "Buzz\n",
      "Fizz\n",
      "67\n",
      "68\n",
      "Fizz\n",
      "Buzz\n",
      "71\n",
      "Fizz\n",
      "73\n",
      "74\n",
      "FizzBuzz\n",
      "76\n",
      "77\n",
      "Fizz\n",
      "79\n",
      "Buzz\n",
      "Fizz\n",
      "82\n",
      "83\n",
      "Fizz\n",
      "Buzz\n",
      "86\n",
      "Fizz\n",
      "88\n",
      "89\n",
      "FizzBuzz\n",
      "91\n",
      "92\n",
      "Fizz\n",
      "94\n",
      "Buzz\n",
      "Fizz\n",
      "97\n",
      "98\n",
      "Fizz\n",
      "Buzz\n"
     ]
    }
   ],
   "source": [
    "nmax = 100\n",
    "for n in range(1, nmax + 1): \n",
    "    message = ''\n",
    "    if not n % 3:\n",
    "        message = 'Fizz' \n",
    "    if not n % 5:\n",
    "        message += 'Buzz' \n",
    "    print(message or n)"
   ]
  },
  {
   "cell_type": "markdown",
   "metadata": {},
   "source": [
    "## Hamming distance"
   ]
  },
  {
   "cell_type": "code",
   "execution_count": 28,
   "metadata": {},
   "outputs": [
    {
     "name": "stdout",
     "output_type": "stream",
     "text": [
      "hamming(hello, hallu) = 2\n"
     ]
    }
   ],
   "source": [
    "s = 'hello'\n",
    "t = 'hallu'\n",
    "\n",
    "d = 0\n",
    "for a, b in zip(s, t):\n",
    "    if a != b:\n",
    "        d += 1\n",
    "print(\"hamming(\", s, \", \", t, \") = \", d, sep='')"
   ]
  },
  {
   "cell_type": "markdown",
   "metadata": {},
   "source": [
    "## 2D Arrays"
   ]
  },
  {
   "cell_type": "code",
   "execution_count": 10,
   "metadata": {},
   "outputs": [
    {
     "name": "stdout",
     "output_type": "stream",
     "text": [
      "[0, 1, 2] [3, 4, 5] [6, 7, 8]\n",
      "[0, 1, 2]\n",
      "[3, 4, 5]\n",
      "[6, 7, 8]\n"
     ]
    }
   ],
   "source": [
    "n = 3\n",
    "m = 3\n",
    "a = []\n",
    "val = 0\n",
    "for i in range(n):\n",
    "    row = []\n",
    "    for j in range(m):\n",
    "        row.append(val)\n",
    "        val += 1\n",
    "    a.append(row)\n",
    "print(*a, sep='\\n')"
   ]
  },
  {
   "cell_type": "markdown",
   "metadata": {},
   "source": [
    "## The Luhn formula"
   ]
  },
  {
   "cell_type": "code",
   "execution_count": 11,
   "metadata": {},
   "outputs": [
    {
     "name": "stdout",
     "output_type": "stream",
     "text": [
      "True\n",
      "6\n"
     ]
    },
    {
     "data": {
      "text/plain": [
       "6"
      ]
     },
     "execution_count": 11,
     "metadata": {},
     "output_type": "execute_result"
    }
   ],
   "source": [
    "ccn = '4799 2739 8713 6272'\n",
    "ccn = ''.join(ccn.split())[::-1]\n",
    "\n",
    "checksum = 0\n",
    "for index, digit in enumerate(ccn):\n",
    "    d = int(digit)\n",
    "    if index % 2:\n",
    "        d *= 2\n",
    "    a, b = d//10, d%10   \n",
    "    checksum += a + b\n",
    "print(not checksum%10)"
   ]
  },
  {
   "cell_type": "markdown",
   "metadata": {},
   "source": [
    "## Redwood data"
   ]
  },
  {
   "cell_type": "code",
   "execution_count": 14,
   "metadata": {},
   "outputs": [
    {
     "name": "stdout",
     "output_type": "stream",
     "text": [
      "maximum height          :  115.61\n",
      "info about tallest tree : Hyperion Redwood National Park 4.84 115.61\n",
      "maximum diameter        :  5.18\n",
      "info about widest tree  : Stratosphere Giant Humboldt Redwoods State Park 5.18 113.05\n"
     ]
    }
   ],
   "source": [
    "f = open('data/redwood.txt')\n",
    "\n",
    "# read header information\n",
    "f.readline()\n",
    "f.readline()\n",
    "\n",
    "max_h = 0\n",
    "max_d = 0\n",
    "info_h = ''\n",
    "info_d = ''\n",
    "for line in f:\n",
    "    data = line.split()\n",
    "    val = float(data[-1])\n",
    "    if max_h < val:\n",
    "        max_h = val\n",
    "        info_h = \" \".join(data)\n",
    "    val = float(data[-2])\n",
    "    if max_d < val:\n",
    "        max_d = val\n",
    "        info_d = \" \".join(data)\n",
    "\n",
    "print(\"maximum height          : \", max_h)\n",
    "print(\"info about tallest tree :\", info_h)\n",
    "print(\"maximum diameter        : \", max_d)\n",
    "print(\"info about widest tree  :\", info_d)\n"
   ]
  },
  {
   "cell_type": "code",
   "execution_count": null,
   "metadata": {},
   "outputs": [],
   "source": []
  }
 ],
 "metadata": {
  "kernelspec": {
   "display_name": "Python 3",
   "language": "python",
   "name": "python3"
  },
  "language_info": {
   "codemirror_mode": {
    "name": "ipython",
    "version": 3
   },
   "file_extension": ".py",
   "mimetype": "text/x-python",
   "name": "python",
   "nbconvert_exporter": "python",
   "pygments_lexer": "ipython3",
   "version": "3.8.5"
  }
 },
 "nbformat": 4,
 "nbformat_minor": 4
}
