{
 "cells": [
  {
   "cell_type": "code",
   "execution_count": 60,
   "metadata": {},
   "outputs": [],
   "source": [
    "import numpy as np\n",
    "import matplotlib.pyplot as plt\n",
    "%matplotlib inline"
   ]
  },
  {
   "cell_type": "code",
   "execution_count": 61,
   "metadata": {},
   "outputs": [],
   "source": [
    "def plot(x, y, f):\n",
    "    \n",
    "    plt.xlabel(\"x\") \n",
    "    plt.ylabel(\"y\") \n",
    "    \n",
    "    i = np.argsort(x)\n",
    "    plt.scatter(x[i], y[i])\n",
    "    \n",
    "    min, max = np.amin(x), np.amax(x)\n",
    "    z = np.linspace(min, max, 100)\n",
    "    plt.plot(z, f(z), color='green')\n",
    "    \n",
    "    plt.show()"
   ]
  },
  {
   "cell_type": "code",
   "execution_count": 62,
   "metadata": {},
   "outputs": [],
   "source": [
    "# Create random number generator\n"
   ]
  },
  {
   "cell_type": "code",
   "execution_count": 63,
   "metadata": {},
   "outputs": [],
   "source": [
    "# Write a function f(x) that returns function values of an ndarray x.\n",
    "# \n",
    "# parameter x - an ndarray\n",
    "# return    y - function values f(x) \n",
    "\n",
    "# Use NumPy functions such as sin(), cos(), ...: \n",
    "#     https://numpy.org/doc/stable/reference/routines.emath.html\n"
   ]
  },
  {
   "cell_type": "code",
   "execution_count": 64,
   "metadata": {},
   "outputs": [],
   "source": [
    "# Write a function \n",
    "#\n",
    "#    sample(rng, f, n=10, sigma=0.5, min_val=0, max_val=1)\n",
    "#\n",
    "# with the following parameters:\n",
    "#\n",
    "# rng     - random number generator \n",
    "# f       - function name \n",
    "# n       - number of elements of an ndarray\n",
    "# sigma   - standard deviation\n",
    "# min_val - a minimum value\n",
    "# max_val - a maximum value (max_val > min_val)\n",
    "#\n",
    "# The function randomly samples an ndarray x with n elements drawn from a \n",
    "# uniform distribution over some interval [min_val, max_val]. Then it generates\n",
    "# noisy copies y, that is\n",
    "#\n",
    "#    y = f(x) + eps\n",
    "# \n",
    "# where eps is an ndarray with n elements drawn from a normal distribution with\n",
    "# mean zero and standard deviation sigma.\n",
    "#\n",
    "# The function returns the ndarrays x and y\n"
   ]
  },
  {
   "cell_type": "code",
   "execution_count": 2,
   "metadata": {},
   "outputs": [],
   "source": [
    "# Call the function sample(.). Suppose that sample() returns x and y. \n",
    "\n",
    "# uncomment the next line \n",
    "# plot(x, y, f)"
   ]
  },
  {
   "cell_type": "code",
   "execution_count": null,
   "metadata": {},
   "outputs": [],
   "source": []
  }
 ],
 "metadata": {
  "kernelspec": {
   "display_name": "Python 3",
   "language": "python",
   "name": "python3"
  },
  "language_info": {
   "codemirror_mode": {
    "name": "ipython",
    "version": 3
   },
   "file_extension": ".py",
   "mimetype": "text/x-python",
   "name": "python",
   "nbconvert_exporter": "python",
   "pygments_lexer": "ipython3",
   "version": "3.8.5"
  }
 },
 "nbformat": 4,
 "nbformat_minor": 4
}
