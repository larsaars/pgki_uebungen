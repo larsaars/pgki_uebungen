{
 "cells": [
  {
   "cell_type": "markdown",
   "id": "single-compact",
   "metadata": {},
   "source": [
    "# Earth's Geoid\n",
    "Das Geoid ist eine wichtige Bezugsfläche im Schwerefeld der Erde. Es dient zur Definition von Höhen sowie zur Vermessung und Beschreibung der Erdfigur. In guter Näherung wird das Geoid durch den mittleren Meeresspiegel der Weltmeere repräsentiert und ist damit außerhalb der Landmassen direkt in seiner Form sichtbar. \n",
    "![Potsdam Gravity Potato](https://upload.wikimedia.org/wikipedia/commons/thumb/c/c3/Modell.Potsdamer.Kartoffel.jpg/800px-Modell.Potsdamer.Kartoffel.jpg)"
   ]
  },
  {
   "cell_type": "code",
   "execution_count": 11,
   "id": "saved-circumstances",
   "metadata": {},
   "outputs": [],
   "source": [
    "from math import atanh, pi"
   ]
  },
  {
   "cell_type": "code",
   "execution_count": 12,
   "id": "heavy-aspect",
   "metadata": {},
   "outputs": [],
   "source": [
    "a = 6378137.0\n",
    "c = 6356752.314245\n",
    "e = 1 - ((c ** 2) / (a ** 2))"
   ]
  },
  {
   "cell_type": "code",
   "execution_count": 19,
   "id": "sacred-solomon",
   "metadata": {
    "tags": []
   },
   "outputs": [
    {
     "data": {
      "text/plain": [
       "'511200256780573.9 m^2'"
      ]
     },
     "execution_count": 19,
     "metadata": {},
     "output_type": "execute_result"
    }
   ],
   "source": [
    "S = 2 * pi * (a ** 2) * (1 + ((1 - e ** 2) / e) * atanh(e))\n",
    "str(S) + ' m^2'"
   ]
  },
  {
   "cell_type": "code",
   "execution_count": 17,
   "id": "certified-leather",
   "metadata": {},
   "outputs": [],
   "source": [
    "r = 6371000"
   ]
  },
  {
   "cell_type": "code",
   "execution_count": 21,
   "id": "pediatric-hobby",
   "metadata": {},
   "outputs": [
    {
     "data": {
      "text/plain": [
       "'510064471909788.25 m^2'"
      ]
     },
     "execution_count": 21,
     "metadata": {},
     "output_type": "execute_result"
    }
   ],
   "source": [
    "S2 = 4 * pi * (r ** 2)\n",
    "str(S2) + ' m^2'"
   ]
  },
  {
   "cell_type": "code",
   "execution_count": 23,
   "id": "lightweight-examination",
   "metadata": {},
   "outputs": [
    {
     "data": {
      "text/plain": [
       "'1135784870785.625 m^2 difference'"
      ]
     },
     "execution_count": 23,
     "metadata": {},
     "output_type": "execute_result"
    }
   ],
   "source": [
    "str(abs(S - S2)) + ' m^2 difference'"
   ]
  },
  {
   "cell_type": "code",
   "execution_count": null,
   "id": "beginning-pickup",
   "metadata": {},
   "outputs": [],
   "source": []
  }
 ],
 "metadata": {
  "kernelspec": {
   "display_name": "Python 3",
   "language": "python",
   "name": "python3"
  },
  "language_info": {
   "codemirror_mode": {
    "name": "ipython",
    "version": 3
   },
   "file_extension": ".py",
   "mimetype": "text/x-python",
   "name": "python",
   "nbconvert_exporter": "python",
   "pygments_lexer": "ipython3",
   "version": "3.8.5"
  }
 },
 "nbformat": 4,
 "nbformat_minor": 5
}
