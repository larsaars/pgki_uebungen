{
 "cells": [
  {
   "cell_type": "markdown",
   "metadata": {},
   "source": [
    "# Breast Cancer Prediction\n",
    "\n",
    "### Reading the data\n",
    "\n",
    "Read `cancer.txt` line by line. The first line is the header and is ignored. The variable `data` stores all other lines of the file as a list of strings. Each string-item of the list `data` corresponds to one data-line of the file. "
   ]
  },
  {
   "cell_type": "code",
   "execution_count": 9,
   "metadata": {},
   "outputs": [],
   "source": [
    "f = open('./data/cancer.txt', 'r')\n",
    "\n",
    "# read and ignore header\n",
    "f.readline()\n",
    "\n",
    "# store record\n",
    "data = f.readlines()"
   ]
  },
  {
   "cell_type": "markdown",
   "metadata": {},
   "source": [
    "### Data transformation\n",
    "\n",
    "Converts strings to numerical data. The values are stored in the nested list `X`."
   ]
  },
  {
   "cell_type": "code",
   "execution_count": 10,
   "metadata": {},
   "outputs": [],
   "source": [
    "num = len(data)\n",
    "X = []\n",
    "for line in data:\n",
    "    fields = line.split()\n",
    "    x = []\n",
    "    for item in fields:\n",
    "        x.append(float(item))\n",
    "    X.append(x)"
   ]
  },
  {
   "cell_type": "markdown",
   "metadata": {},
   "source": [
    "Splits class labels from the data matrix `X`. The matrix `X` is a list of feature vectors and the vector `Y` consists of the corresponding class labels"
   ]
  },
  {
   "cell_type": "code",
   "execution_count": 11,
   "metadata": {},
   "outputs": [],
   "source": [
    "Y = []\n",
    "for i in range(num):\n",
    "    Y.append(X[i][-1])\n",
    "    X[i] = X[i][:-1]"
   ]
  },
  {
   "cell_type": "markdown",
   "metadata": {},
   "source": [
    "### Distance matrix\n",
    "Computes the pairwise Euclidean distances between the feature vectors.\n",
    "\n",
    "X[i]\n",
    "X[j]\n",
    "\n",
    "dist[i][j] = || X[i] - X[j] || dist[i][i] = inf"
   ]
  },
  {
   "cell_type": "code",
   "execution_count": 12,
   "metadata": {},
   "outputs": [],
   "source": [
    "import math as m\n",
    "\n",
    "# initialize distance matrix with infinity \n",
    "dist = []\n",
    "for i in range(num):\n",
    "    row = []\n",
    "    for j in range(num):\n",
    "        row.append(m.inf)\n",
    "    dist.append(row)\n",
    "\n",
    "# compute pairwise distances\n",
    "for i in range(num):\n",
    "    for j in range(i+1,num):\n",
    "        dist[i][j] = m.dist(X[i], X[j])\n",
    "        dist[j][i] = dist[i][j]"
   ]
  },
  {
   "cell_type": "markdown",
   "metadata": {},
   "source": [
    "### Classification\n",
    "Estimates the error rate of the nearest-neighbor classifier using the leave-one-out test protocol."
   ]
  },
  {
   "cell_type": "code",
   "execution_count": 13,
   "metadata": {},
   "outputs": [
    {
     "name": "stdout",
     "output_type": "stream",
     "text": [
      "error rate : 40.5\n"
     ]
    }
   ],
   "source": [
    "err = 0\n",
    "for i in range(num):\n",
    "    k = dist[i].index(min(dist[i]))\n",
    "    if Y[k] != Y[i]:\n",
    "        err += 1\n",
    "err = 100.0*err/num\n",
    "print(f'error rate : {err:.1f}')      "
   ]
  },
  {
   "cell_type": "markdown",
   "metadata": {},
   "source": [
    "### Classification with standardized data\n",
    "\n",
    "Repeat experiment with Z-transformed data. The proposed approach is simple but methodologically incorrect. A methodologically correct approach only uses the training data to estimate the average and standard deviation. Here, the test element also contributes to both quantities.\n",
    "\n",
    "**First step:** compute column-wise average (`avg`) and standard deviation (`std`) of the feature matrix `X`"
   ]
  },
  {
   "cell_type": "code",
   "execution_count": 16,
   "metadata": {},
   "outputs": [],
   "source": [
    "# initialize avg and std for each column\n",
    "avg = []\n",
    "std = []\n",
    "dim = len(X[0])\n",
    "for i in range(dim):\n",
    "    avg.append(0)\n",
    "    std.append(0)\n",
    "\n",
    "# compute avg for each column\n",
    "for x in X:\n",
    "    for i in range(dim):\n",
    "        avg[i] += x[i]\n",
    "for i in range(dim):\n",
    "    avg[i] /= num\n",
    "\n",
    "# compute std for each column \n",
    "for x in X:\n",
    "    for i in range(dim):\n",
    "        std[i] += (x[i] - avg[i])**2\n",
    "for i in range(dim):\n",
    "    std[i] /= num-1\n",
    "    std[i] **= 0.5"
   ]
  },
  {
   "cell_type": "markdown",
   "metadata": {},
   "source": [
    "**Second step:** Z-transformation of the matrix `X`"
   ]
  },
  {
   "cell_type": "code",
   "execution_count": 17,
   "metadata": {},
   "outputs": [],
   "source": [
    "for x in X:\n",
    "    for i in range(dim):\n",
    "        x[i] = (x[i] - avg[i])/std[i]"
   ]
  },
  {
   "cell_type": "markdown",
   "metadata": {},
   "source": [
    "**Third step:** classification using the leave-one-out protocol "
   ]
  },
  {
   "cell_type": "code",
   "execution_count": 18,
   "metadata": {},
   "outputs": [
    {
     "name": "stdout",
     "output_type": "stream",
     "text": [
      "error rate : 31.9\n"
     ]
    }
   ],
   "source": [
    "dist = []\n",
    "for i in range(num):\n",
    "    row = []\n",
    "    for j in range(num):\n",
    "        row.append(m.inf)\n",
    "    dist.append(row)\n",
    "\n",
    "for i in range(num):\n",
    "    for j in range(i+1,num):\n",
    "        dist[i][j] = m.dist(X[i], X[j])\n",
    "        dist[j][i] = dist[i][j]\n",
    "        \n",
    "err = 0\n",
    "for i in range(num):\n",
    "    k = dist[i].index(min(dist[i]))\n",
    "    if Y[k] != Y[i]:\n",
    "        err += 1\n",
    "err = 100.0*err/num\n",
    "print(f'error rate : {err:.1f}')      "
   ]
  },
  {
   "cell_type": "code",
   "execution_count": null,
   "metadata": {},
   "outputs": [],
   "source": []
  },
  {
   "cell_type": "code",
   "execution_count": null,
   "metadata": {},
   "outputs": [],
   "source": []
  }
 ],
 "metadata": {
  "kernelspec": {
   "display_name": "Python 3",
   "language": "python",
   "name": "python3"
  },
  "language_info": {
   "codemirror_mode": {
    "name": "ipython",
    "version": 3
   },
   "file_extension": ".py",
   "mimetype": "text/x-python",
   "name": "python",
   "nbconvert_exporter": "python",
   "pygments_lexer": "ipython3",
   "version": "3.8.5"
  }
 },
 "nbformat": 4,
 "nbformat_minor": 4
}
